{
 "cells": [
  {
   "cell_type": "markdown",
   "id": "e88ecef9-b752-4737-b88d-bccc9a688a29",
   "metadata": {},
   "source": [
    "## computing MLD\n",
    "\n",
    "- These are the first attemps. Still trying to validate and make sure the calculation is good"
   ]
  },
  {
   "cell_type": "code",
   "execution_count": 1,
   "id": "74f683e8-175b-490c-9cc1-b0e137e753c7",
   "metadata": {
    "tags": []
   },
   "outputs": [],
   "source": [
    "import warnings\n",
    "warnings.simplefilter('ignore')\n",
    "\n",
    "import pandas as pd\n",
    "import matplotlib.pyplot as plt\n",
    "import seaborn as sns\n",
    "import numpy as np\n",
    "import math\n",
    "\n",
    "import cartopy.crs as ccrs\n",
    "import cartopy.feature as cfeature\n",
    "import gsw\n",
    "\n",
    "from scipy.interpolate import griddata\n",
    "import matplotlib.colors as mcolors\n",
    "\n",
    "import scipy.interpolate as spi\n",
    "import cmocean\n",
    "import seawater as sw\n",
    "import matplotlib.dates as mdates"
   ]
  },
  {
   "cell_type": "code",
   "execution_count": 2,
   "id": "d85a038f-928e-4e43-9d4b-78687048b7d8",
   "metadata": {
    "tags": []
   },
   "outputs": [],
   "source": [
    "path = \"/home/mtorres4/project/MetaRhythms/\""
   ]
  },
  {
   "cell_type": "markdown",
   "id": "c6b4dea6-2681-42cc-8291-bde1f7bff471",
   "metadata": {},
   "source": [
    "### Load CTD Data"
   ]
  },
  {
   "cell_type": "code",
   "execution_count": 3,
   "id": "49f46a24-2161-4c89-b965-602c22f951be",
   "metadata": {
    "tags": []
   },
   "outputs": [
    {
     "data": {
      "text/html": [
       "<div>\n",
       "<style scoped>\n",
       "    .dataframe tbody tr th:only-of-type {\n",
       "        vertical-align: middle;\n",
       "    }\n",
       "\n",
       "    .dataframe tbody tr th {\n",
       "        vertical-align: top;\n",
       "    }\n",
       "\n",
       "    .dataframe thead th {\n",
       "        text-align: right;\n",
       "    }\n",
       "</style>\n",
       "<table border=\"1\" class=\"dataframe\">\n",
       "  <thead>\n",
       "    <tr style=\"text-align: right;\">\n",
       "      <th></th>\n",
       "      <th>ID</th>\n",
       "      <th>ISO_DateTime_UTC_deployed</th>\n",
       "      <th>ISO_DateTime_UTC_recovered</th>\n",
       "      <th>Vessel</th>\n",
       "      <th>Latitude_deployed</th>\n",
       "      <th>Longitude_deployed</th>\n",
       "      <th>Latitude_recovered</th>\n",
       "      <th>Longitude_recovered</th>\n",
       "      <th>Cruise_type</th>\n",
       "      <th>Cruise_num</th>\n",
       "      <th>...</th>\n",
       "      <th>Flu</th>\n",
       "      <th>QF_Flu</th>\n",
       "      <th>PAR</th>\n",
       "      <th>QF_PAR</th>\n",
       "      <th>Date_deployed</th>\n",
       "      <th>Date_recovered</th>\n",
       "      <th>Time_deployed</th>\n",
       "      <th>Time_recovered</th>\n",
       "      <th>Decimal_Year_deployed</th>\n",
       "      <th>Decimal_Year_recovered</th>\n",
       "    </tr>\n",
       "  </thead>\n",
       "  <tbody>\n",
       "    <tr>\n",
       "      <th>0</th>\n",
       "      <td>10001001</td>\n",
       "      <td>1988-10-20T22:30:00Z</td>\n",
       "      <td>1988-10-21T02:00:00Z</td>\n",
       "      <td>R/V Weatherbird II</td>\n",
       "      <td>31.783</td>\n",
       "      <td>-64.116</td>\n",
       "      <td>NaN</td>\n",
       "      <td>NaN</td>\n",
       "      <td>BATS Core</td>\n",
       "      <td>10001</td>\n",
       "      <td>...</td>\n",
       "      <td>NaN</td>\n",
       "      <td>9</td>\n",
       "      <td>NaN</td>\n",
       "      <td>9</td>\n",
       "      <td>19881020</td>\n",
       "      <td>19881021</td>\n",
       "      <td>2230</td>\n",
       "      <td>200.0</td>\n",
       "      <td>1988.803108</td>\n",
       "      <td>1988.803506</td>\n",
       "    </tr>\n",
       "    <tr>\n",
       "      <th>1</th>\n",
       "      <td>10001001</td>\n",
       "      <td>1988-10-20T22:30:00Z</td>\n",
       "      <td>1988-10-21T02:00:00Z</td>\n",
       "      <td>R/V Weatherbird II</td>\n",
       "      <td>31.783</td>\n",
       "      <td>-64.116</td>\n",
       "      <td>NaN</td>\n",
       "      <td>NaN</td>\n",
       "      <td>BATS Core</td>\n",
       "      <td>10001</td>\n",
       "      <td>...</td>\n",
       "      <td>NaN</td>\n",
       "      <td>9</td>\n",
       "      <td>NaN</td>\n",
       "      <td>9</td>\n",
       "      <td>19881020</td>\n",
       "      <td>19881021</td>\n",
       "      <td>2230</td>\n",
       "      <td>200.0</td>\n",
       "      <td>1988.803108</td>\n",
       "      <td>1988.803506</td>\n",
       "    </tr>\n",
       "    <tr>\n",
       "      <th>2</th>\n",
       "      <td>10001001</td>\n",
       "      <td>1988-10-20T22:30:00Z</td>\n",
       "      <td>1988-10-21T02:00:00Z</td>\n",
       "      <td>R/V Weatherbird II</td>\n",
       "      <td>31.783</td>\n",
       "      <td>-64.116</td>\n",
       "      <td>NaN</td>\n",
       "      <td>NaN</td>\n",
       "      <td>BATS Core</td>\n",
       "      <td>10001</td>\n",
       "      <td>...</td>\n",
       "      <td>NaN</td>\n",
       "      <td>9</td>\n",
       "      <td>NaN</td>\n",
       "      <td>9</td>\n",
       "      <td>19881020</td>\n",
       "      <td>19881021</td>\n",
       "      <td>2230</td>\n",
       "      <td>200.0</td>\n",
       "      <td>1988.803108</td>\n",
       "      <td>1988.803506</td>\n",
       "    </tr>\n",
       "    <tr>\n",
       "      <th>3</th>\n",
       "      <td>10001001</td>\n",
       "      <td>1988-10-20T22:30:00Z</td>\n",
       "      <td>1988-10-21T02:00:00Z</td>\n",
       "      <td>R/V Weatherbird II</td>\n",
       "      <td>31.783</td>\n",
       "      <td>-64.116</td>\n",
       "      <td>NaN</td>\n",
       "      <td>NaN</td>\n",
       "      <td>BATS Core</td>\n",
       "      <td>10001</td>\n",
       "      <td>...</td>\n",
       "      <td>NaN</td>\n",
       "      <td>9</td>\n",
       "      <td>NaN</td>\n",
       "      <td>9</td>\n",
       "      <td>19881020</td>\n",
       "      <td>19881021</td>\n",
       "      <td>2230</td>\n",
       "      <td>200.0</td>\n",
       "      <td>1988.803108</td>\n",
       "      <td>1988.803506</td>\n",
       "    </tr>\n",
       "    <tr>\n",
       "      <th>4</th>\n",
       "      <td>10001001</td>\n",
       "      <td>1988-10-20T22:30:00Z</td>\n",
       "      <td>1988-10-21T02:00:00Z</td>\n",
       "      <td>R/V Weatherbird II</td>\n",
       "      <td>31.783</td>\n",
       "      <td>-64.116</td>\n",
       "      <td>NaN</td>\n",
       "      <td>NaN</td>\n",
       "      <td>BATS Core</td>\n",
       "      <td>10001</td>\n",
       "      <td>...</td>\n",
       "      <td>NaN</td>\n",
       "      <td>9</td>\n",
       "      <td>NaN</td>\n",
       "      <td>9</td>\n",
       "      <td>19881020</td>\n",
       "      <td>19881021</td>\n",
       "      <td>2230</td>\n",
       "      <td>200.0</td>\n",
       "      <td>1988.803108</td>\n",
       "      <td>1988.803506</td>\n",
       "    </tr>\n",
       "  </tbody>\n",
       "</table>\n",
       "<p>5 rows × 33 columns</p>\n",
       "</div>"
      ],
      "text/plain": [
       "         ID ISO_DateTime_UTC_deployed ISO_DateTime_UTC_recovered  \\\n",
       "0  10001001      1988-10-20T22:30:00Z       1988-10-21T02:00:00Z   \n",
       "1  10001001      1988-10-20T22:30:00Z       1988-10-21T02:00:00Z   \n",
       "2  10001001      1988-10-20T22:30:00Z       1988-10-21T02:00:00Z   \n",
       "3  10001001      1988-10-20T22:30:00Z       1988-10-21T02:00:00Z   \n",
       "4  10001001      1988-10-20T22:30:00Z       1988-10-21T02:00:00Z   \n",
       "\n",
       "               Vessel  Latitude_deployed  Longitude_deployed  \\\n",
       "0  R/V Weatherbird II             31.783             -64.116   \n",
       "1  R/V Weatherbird II             31.783             -64.116   \n",
       "2  R/V Weatherbird II             31.783             -64.116   \n",
       "3  R/V Weatherbird II             31.783             -64.116   \n",
       "4  R/V Weatherbird II             31.783             -64.116   \n",
       "\n",
       "   Latitude_recovered  Longitude_recovered Cruise_type  Cruise_num  ...  Flu  \\\n",
       "0                 NaN                  NaN   BATS Core       10001  ...  NaN   \n",
       "1                 NaN                  NaN   BATS Core       10001  ...  NaN   \n",
       "2                 NaN                  NaN   BATS Core       10001  ...  NaN   \n",
       "3                 NaN                  NaN   BATS Core       10001  ...  NaN   \n",
       "4                 NaN                  NaN   BATS Core       10001  ...  NaN   \n",
       "\n",
       "   QF_Flu  PAR  QF_PAR  Date_deployed  Date_recovered  Time_deployed  \\\n",
       "0       9  NaN       9       19881020        19881021           2230   \n",
       "1       9  NaN       9       19881020        19881021           2230   \n",
       "2       9  NaN       9       19881020        19881021           2230   \n",
       "3       9  NaN       9       19881020        19881021           2230   \n",
       "4       9  NaN       9       19881020        19881021           2230   \n",
       "\n",
       "   Time_recovered  Decimal_Year_deployed  Decimal_Year_recovered  \n",
       "0           200.0            1988.803108             1988.803506  \n",
       "1           200.0            1988.803108             1988.803506  \n",
       "2           200.0            1988.803108             1988.803506  \n",
       "3           200.0            1988.803108             1988.803506  \n",
       "4           200.0            1988.803108             1988.803506  \n",
       "\n",
       "[5 rows x 33 columns]"
      ]
     },
     "execution_count": 3,
     "metadata": {},
     "output_type": "execute_result"
    }
   ],
   "source": [
    "url = \"https://datadocs.bco-dmo.org/file/7DkKkrjTW5K4Pw/3918_v8_bats_ctd.csv\"\n",
    "df = pd.read_csv(url)\n",
    "df.head(5)"
   ]
  },
  {
   "cell_type": "code",
   "execution_count": 4,
   "id": "0ef8e6ee-bfde-4c86-80b1-d19bb62f0144",
   "metadata": {
    "tags": []
   },
   "outputs": [],
   "source": [
    "df = df.drop(\n",
    "    columns=[\n",
    "        'ID',\n",
    "        'ISO_DateTime_UTC_recovered',\n",
    "        'Vessel',\n",
    "        'Latitude_recovered', \n",
    "        'Longitude_recovered', \n",
    "        'Cruise_type', \n",
    "        'Cruise_num',\n",
    "        'Cast',\n",
    "        'QF_Depth',\n",
    "        'QF_Pressure',\n",
    "        'QF_Temperature',\n",
    "        'QF_Salinity', \n",
    "        'Oxygen',\n",
    "        'QF_Oxygen', \n",
    "        'BAC',\n",
    "        'QF_BAC',\n",
    "        'Flu', \n",
    "        'QF_Flu', \n",
    "        'PAR', \n",
    "        'QF_PAR',\n",
    "        'Date_deployed', \n",
    "        'Date_recovered', \n",
    "        'Time_deployed',\n",
    "        'Time_recovered', \n",
    "        'Decimal_Year_recovered']\n",
    ")"
   ]
  },
  {
   "cell_type": "code",
   "execution_count": 5,
   "id": "f245a909-ea7e-40c7-90d9-fbc794781bc1",
   "metadata": {
    "tags": []
   },
   "outputs": [],
   "source": [
    "df['datetime'] = pd.to_datetime(df['ISO_DateTime_UTC_deployed'], errors=\"coerce\")#.astype('datetime64[s]')"
   ]
  },
  {
   "cell_type": "code",
   "execution_count": 6,
   "id": "515dfd39-d3bd-49a3-9979-e9dc2eae2db5",
   "metadata": {
    "tags": []
   },
   "outputs": [],
   "source": [
    "def make_depth_datasets(df, depths, time='datetime'):\n",
    "    \n",
    "    da = {}\n",
    "    for min_depth, max_depth, label in depths:\n",
    "\n",
    "        df_subset = df[(df['Depth'] >= min_depth) & (df['Depth'] <= max_depth)].copy()\n",
    "        \n",
    "        df_subset['YearMonthDay'] = pd.to_datetime(df_subset[time]).dt.floor('D')\n",
    "        # df_subset['YearMonth'] = df_subset[time].dt.strftime('%Y-%m')\n",
    "        df_subset['YearMonth'] = df_subset[time].dt.to_period('M')\n",
    "        df_subset['Month'] = df_subset[time].dt.month\n",
    "        df_subset['Year'] = df_subset[time].dt.year\n",
    "        \n",
    "        da[label] = df_subset\n",
    "        \n",
    "    return da"
   ]
  },
  {
   "cell_type": "code",
   "execution_count": 7,
   "id": "eaa2fa74-b085-47e5-aed2-792547a49630",
   "metadata": {
    "tags": []
   },
   "outputs": [],
   "source": [
    "depth_ranges = [\n",
    "    (0, 3000, 'surf')]\n",
    "da = make_depth_datasets(df, depth_ranges)"
   ]
  },
  {
   "cell_type": "code",
   "execution_count": 8,
   "id": "5ff09958-6215-4fcb-8164-7a28b261646a",
   "metadata": {
    "tags": []
   },
   "outputs": [],
   "source": [
    "data = da[\"surf\"]"
   ]
  },
  {
   "cell_type": "code",
   "execution_count": 9,
   "id": "9f074ca5-2fa5-4f48-8903-7d1cf5172738",
   "metadata": {
    "tags": []
   },
   "outputs": [],
   "source": [
    "import numpy as np\n",
    "import pandas as pd\n",
    "import gsw\n",
    "\n",
    "def compute_mld_timeseries(\n",
    "    df,\n",
    "    threshold=0.125,\n",
    "    reference_depth=0,\n",
    "    time_format=\"%Y-%m-%d\",\n",
    "    smooth_window=None\n",
    "):\n",
    "    df[\"TimeGroup\"] = df[\"YearMonthDay\"].dt.strftime(time_format)\n",
    "\n",
    "    def compute_mld_for_time(group):\n",
    "        group = group.sort_values(\"Pressure\").copy()\n",
    "\n",
    "        group[\"Sigma_theta\"] = gsw.density.sigma0(\n",
    "            group[\"Salinity\"].values, group[\"Temperature\"].values\n",
    "        )\n",
    "        if smooth_window is not None and smooth_window > 1:\n",
    "            group[\"Sigma_theta_smooth\"] = (\n",
    "                group[\"Sigma_theta\"]\n",
    "                .rolling(window=smooth_window, min_periods=1)\n",
    "                .mean()\n",
    "            )\n",
    "        else:\n",
    "            group[\"Sigma_theta_smooth\"] = group[\"Sigma_theta\"]\n",
    "\n",
    "        if group[\"Pressure\"].min() > reference_depth:\n",
    "            return np.nan\n",
    "\n",
    "        surface_density = np.interp(\n",
    "            reference_depth,\n",
    "            group[\"Pressure\"],\n",
    "            group[\"Sigma_theta_smooth\"]\n",
    "        )\n",
    "\n",
    "        density_diff = group[\"Sigma_theta_smooth\"] - surface_density\n",
    "\n",
    "        exceeding = group.loc[density_diff > threshold, \"Pressure\"]\n",
    "        if not exceeding.empty:\n",
    "            return exceeding.min()\n",
    "        else:\n",
    "            return np.nan\n",
    "\n",
    "    mld_series = df.groupby(\"TimeGroup\").apply(compute_mld_for_time)\n",
    "\n",
    "    return mld_series"
   ]
  },
  {
   "cell_type": "code",
   "execution_count": 10,
   "id": "998e834f-86ba-4b7d-bd80-6db72350ffac",
   "metadata": {
    "tags": []
   },
   "outputs": [],
   "source": [
    "mld = compute_mld_timeseries(\n",
    "    data,\n",
    "    threshold=0.125,\n",
    "    reference_depth=20,\n",
    "    time_format=\"%Y-%m-%d\",\n",
    "    smooth_window=20\n",
    ")"
   ]
  },
  {
   "cell_type": "code",
   "execution_count": 11,
   "id": "9754acb0-6925-4be5-b7c0-02eb08437cc8",
   "metadata": {
    "tags": []
   },
   "outputs": [],
   "source": [
    "mld_sel = mld.loc['2003-01-01':'2005-01-01']"
   ]
  },
  {
   "cell_type": "code",
   "execution_count": 17,
   "id": "40f97e09-8dad-460e-a72e-f640d26e2953",
   "metadata": {
    "tags": []
   },
   "outputs": [
    {
     "data": {
      "image/png": "[encoded data removed]",
      "text/plain": [
       "<Figure size 1200x500 with 1 Axes>"
      ]
     },
     "metadata": {},
     "output_type": "display_data"
    }
   ],
   "source": [
    "plt.figure(figsize=(12, 5))\n",
    "plt.rcParams.update({'font.size': 14})\n",
    "# mld_sel.plot(color='k')\n",
    "plt.plot(mld_sel, marker='o', linestyle='-', color='k', markerfacecolor='white', markeredgecolor='k', markersize=2)\n",
    "# plt.xticks(fontsize=1, rotation=45)\n",
    "plt.gca().xaxis.set_major_locator(plt.MaxNLocator(10))  # Show only 10 ticks\n",
    "plt.ylim(500, 0)\n",
    "plt.ylabel('Depth [m]')\n",
    "plt.xlim(mld_sel.index[0],mld_sel.index[-1])\n",
    "# plt.xlabel('Time')\n",
    "plt.tight_layout()\n",
    "plt.savefig(f'{path}figures/MLD-timeseries-2003-2005.png', dpi=300)\n",
    "plt.show()"
   ]
  },
  {
   "cell_type": "code",
   "execution_count": null,
   "id": "b1a52f51-fe1d-4180-9953-97969644c298",
   "metadata": {},
   "outputs": [],
   "source": []
  },
  {
   "cell_type": "code",
   "execution_count": null,
   "id": "836fe82d-859f-4637-b59f-21597bd8c2af",
   "metadata": {},
   "outputs": [],
   "source": []
  }
 ],
 "metadata": {
  "kernelspec": {
   "display_name": "rhythms",
   "language": "python",
   "name": "rhythms"
  },
  "language_info": {
   "codemirror_mode": {
    "name": "ipython",
    "version": 3
   },
   "file_extension": ".py",
   "mimetype": "text/x-python",
   "name": "python",
   "nbconvert_exporter": "python",
   "pygments_lexer": "ipython3",
   "version": "3.13.0"
  }
 },
 "nbformat": 4,
 "nbformat_minor": 5
}
